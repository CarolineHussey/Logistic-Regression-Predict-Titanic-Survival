{
 "cells": [
  {
   "cell_type": "code",
   "execution_count": 1,
   "metadata": {},
   "outputs": [],
   "source": [
    "import seaborn as sns\n",
    "import pandas as pd\n",
    "import numpy as np\n",
    "import matplotlib.pyplot as plt\n",
    "from sklearn.linear_model import LogisticRegression\n",
    "from sklearn.model_selection import train_test_split\n",
    "from sklearn.preprocessing import StandardScaler\n"
   ]
  },
  {
   "cell_type": "code",
   "execution_count": 4,
   "metadata": {},
   "outputs": [
    {
     "name": "stdout",
     "output_type": "stream",
     "text": [
      "   PassengerId  Survived  Pclass  \\\n",
      "0            1         0       3   \n",
      "1            2         1       1   \n",
      "2            3         1       3   \n",
      "3            4         1       1   \n",
      "4            5         0       3   \n",
      "\n",
      "                                                Name     Sex   Age  SibSp  \\\n",
      "0                            Braund, Mr. Owen Harris    male  22.0      1   \n",
      "1  Cumings, Mrs. John Bradley (Florence Briggs Th...  female  38.0      1   \n",
      "2                             Heikkinen, Miss. Laina  female  26.0      0   \n",
      "3       Futrelle, Mrs. Jacques Heath (Lily May Peel)  female  35.0      1   \n",
      "4                           Allen, Mr. William Henry    male  35.0      0   \n",
      "\n",
      "   Parch            Ticket     Fare Cabin Embarked  \n",
      "0      0         A/5 21171   7.2500   NaN        S  \n",
      "1      0          PC 17599  71.2833   C85        C  \n",
      "2      0  STON/O2. 3101282   7.9250   NaN        S  \n",
      "3      0            113803  53.1000  C123        S  \n",
      "4      0            373450   8.0500   NaN        S  \n"
     ]
    }
   ],
   "source": [
    "# Load passenger data\n",
    "passengers=pd.read_csv(r'titanic.csv')\n",
    "print(passengers.head())"
   ]
  },
  {
   "cell_type": "code",
   "execution_count": 11,
   "metadata": {},
   "outputs": [
    {
     "name": "stdout",
     "output_type": "stream",
     "text": [
      "0      0\n",
      "1      1\n",
      "2      1\n",
      "3      1\n",
      "4      0\n",
      "      ..\n",
      "886    0\n",
      "887    1\n",
      "888    1\n",
      "889    0\n",
      "890    0\n",
      "Name: Sex, Length: 891, dtype: int64\n",
      "0      22.000000\n",
      "1      38.000000\n",
      "2      26.000000\n",
      "3      35.000000\n",
      "4      35.000000\n",
      "         ...    \n",
      "886    27.000000\n",
      "887    19.000000\n",
      "888    29.699118\n",
      "889    26.000000\n",
      "890    32.000000\n",
      "Name: Age, Length: 891, dtype: float64\n"
     ]
    }
   ],
   "source": [
    "#Tidy the data\n",
    "# Update sex column to numerical\n",
    "#passengers[\"Sex\"].replace({\"male\": 0, \"female\": 1}, inplace=True)\n",
    "print(passengers.Sex)\n",
    "# Fill the nan values in the age column\n",
    "passengers[\"Age\"].fillna(value=np.mean(passengers.Age), inplace=True)\n",
    "print(passengers.Age)"
   ]
  },
  {
   "cell_type": "code",
   "execution_count": 13,
   "metadata": {},
   "outputs": [
    {
     "name": "stdout",
     "output_type": "stream",
     "text": [
      "   PassengerId  Survived  Pclass  \\\n",
      "0            1         0       3   \n",
      "1            2         1       1   \n",
      "2            3         1       3   \n",
      "3            4         1       1   \n",
      "4            5         0       3   \n",
      "5            6         0       3   \n",
      "6            7         0       1   \n",
      "7            8         0       3   \n",
      "8            9         1       3   \n",
      "9           10         1       2   \n",
      "\n",
      "                                                Name  Sex        Age  SibSp  \\\n",
      "0                            Braund, Mr. Owen Harris    0  22.000000      1   \n",
      "1  Cumings, Mrs. John Bradley (Florence Briggs Th...    1  38.000000      1   \n",
      "2                             Heikkinen, Miss. Laina    1  26.000000      0   \n",
      "3       Futrelle, Mrs. Jacques Heath (Lily May Peel)    1  35.000000      1   \n",
      "4                           Allen, Mr. William Henry    0  35.000000      0   \n",
      "5                                   Moran, Mr. James    0  29.699118      0   \n",
      "6                            McCarthy, Mr. Timothy J    0  54.000000      0   \n",
      "7                     Palsson, Master. Gosta Leonard    0   2.000000      3   \n",
      "8  Johnson, Mrs. Oscar W (Elisabeth Vilhelmina Berg)    1  27.000000      0   \n",
      "9                Nasser, Mrs. Nicholas (Adele Achem)    1  14.000000      1   \n",
      "\n",
      "   Parch            Ticket     Fare Cabin Embarked  FirstClass  SecondClass  \n",
      "0      0         A/5 21171   7.2500   NaN        S           0            0  \n",
      "1      0          PC 17599  71.2833   C85        C           1            0  \n",
      "2      0  STON/O2. 3101282   7.9250   NaN        S           0            0  \n",
      "3      0            113803  53.1000  C123        S           1            0  \n",
      "4      0            373450   8.0500   NaN        S           0            0  \n",
      "5      0            330877   8.4583   NaN        Q           0            0  \n",
      "6      0             17463  51.8625   E46        S           1            0  \n",
      "7      1            349909  21.0750   NaN        S           0            0  \n",
      "8      2            347742  11.1333   NaN        S           0            0  \n",
      "9      0            237736  30.0708   NaN        C           0            1  \n"
     ]
    }
   ],
   "source": [
    "#Add new class columns to perform predictions based on passenger class\n",
    "# Add a first class column\n",
    "passengers['FirstClass'] = passengers['Pclass'].apply(lambda x: 1 if x == 1 else 0)\n",
    "\n",
    "# Add a second class column\n",
    "passengers['SecondClass'] = passengers['Pclass'].apply(lambda x: 1 if x == 2 else 0)\n",
    "print(passengers.head(10))"
   ]
  },
  {
   "cell_type": "code",
   "execution_count": 14,
   "metadata": {},
   "outputs": [],
   "source": [
    "# Select the desired columns/ features for prediction\n",
    "features=passengers[['Sex', 'Age', 'FirstClass', 'SecondClass']]\n",
    "survival=passengers.Survived\n",
    "# split the data for training / testing\n",
    "train_x, test_x, train_y, test_y = train_test_split(features,survival,test_size = 0.2)\n",
    "# Scale the data so it has mean of 0 and standard deviation of 1\n",
    "scaler = StandardScaler()\n",
    "scale_ftrain=scaler.fit_transform(train_x)\n",
    "scale_ftest=scaler.fit_transform(test_x)"
   ]
  },
  {
   "cell_type": "code",
   "execution_count": 15,
   "metadata": {},
   "outputs": [
    {
     "name": "stdout",
     "output_type": "stream",
     "text": [
      "0.7907303370786517\n"
     ]
    }
   ],
   "source": [
    "# Create and train the model for prediction\n",
    "model = LogisticRegression()\n",
    "model.fit(train_x, train_y)\n",
    "# Score the model on the train data\n",
    "print(model.score(train_x, train_y))"
   ]
  },
  {
   "cell_type": "code",
   "execution_count": 16,
   "metadata": {},
   "outputs": [
    {
     "name": "stdout",
     "output_type": "stream",
     "text": [
      "0.8212290502793296\n",
      "[[ 2.39091213 -0.02743271  2.00966599  1.07580935]]\n",
      "[('Sex', 2.390912134466147), ('Age', -0.027432705837715076), ('FirstClass', 2.0096659859787493), ('SecondClass', 1.0758093470660213)]\n"
     ]
    }
   ],
   "source": [
    "# Score the model on the test data\n",
    "print(model.score(test_x, test_y))\n",
    "# Analyze the coefficients\n",
    "print(model.coef_)\n",
    "print(list(zip(['Sex','Age','FirstClass','SecondClass'],model.coef_[0])))"
   ]
  },
  {
   "cell_type": "code",
   "execution_count": 17,
   "metadata": {},
   "outputs": [
    {
     "name": "stdout",
     "output_type": "stream",
     "text": [
      "[[-0.83950099 -0.72815248 -0.59670814 -0.50174521]\n",
      " [ 1.19118383 -0.95535255  1.67586116 -0.50174521]\n",
      " [ 1.19118383  1.01371477 -0.59670814  1.99304346]]\n"
     ]
    }
   ],
   "source": [
    "# Create sample passenger features\n",
    "Jack = np.array([0.0,20.0,0.0,0.0])\n",
    "Rose = np.array([1.0,17.0,1.0,0.0])\n",
    "Belle = np.array([1.0,43.0,0.0,1.0])\n",
    "# Combine passenger arrays\n",
    "sample_passengers = np.array([Jack, Rose, Belle])\n",
    "# Scale the sample passenger features\n",
    "sample_passengers=scaler.transform(sample_passengers)\n",
    "print(sample_passengers)\n"
   ]
  },
  {
   "cell_type": "code",
   "execution_count": 18,
   "metadata": {},
   "outputs": [
    {
     "name": "stdout",
     "output_type": "stream",
     "text": [
      "[0 1 1]\n",
      "[[0.99427318 0.00572682]\n",
      " [0.01376623 0.98623377]\n",
      " [0.08830814 0.91169186]]\n"
     ]
    }
   ],
   "source": [
    "# Predict Survival\n",
    "print(model.predict(sample_passengers))\n",
    "print(model.predict_proba(sample_passengers))"
   ]
  },
  {
   "cell_type": "code",
   "execution_count": null,
   "metadata": {},
   "outputs": [],
   "source": []
  }
 ],
 "metadata": {
  "kernelspec": {
   "display_name": "Python 3",
   "language": "python",
   "name": "python3"
  },
  "language_info": {
   "codemirror_mode": {
    "name": "ipython",
    "version": 3
   },
   "file_extension": ".py",
   "mimetype": "text/x-python",
   "name": "python",
   "nbconvert_exporter": "python",
   "pygments_lexer": "ipython3",
   "version": "3.8.5"
  }
 },
 "nbformat": 4,
 "nbformat_minor": 4
}
